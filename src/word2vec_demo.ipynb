{
 "cells": [
  {
   "cell_type": "code",
   "execution_count": 2,
   "metadata": {
    "collapsed": false
   },
   "outputs": [
    {
     "name": "stdout",
     "output_type": "stream",
     "text": [
      "Reading book: ../data/sentence5.csv\n",
      "Cleaning sentences...\n",
      "Finished Cleaning\n",
      "Cleaning Data Complete\n",
      "Creating Dictionaries...\n",
      "Created dictionaries\n",
      "Creating all sentences...\n",
      "Done creating sentences\n",
      "Collecting all stories...\n",
      "Done collecting stories\n",
      "Words: 2562529\n",
      "Unique words: 20002\n",
      "Sentences: 262420\n",
      "Data initialized\n"
     ]
    }
   ],
   "source": [
    "# Import parsed data\n",
    "\n",
    "import numpy as np\n",
    "import random\n",
    "import os\n",
    "import pickle\n",
    "\n",
    "from story_parse import Parser\n",
    "from gradcheck import gradcheck_naive\n",
    "\n",
    "params = { 'load':False,\n",
    "        'load_idx':0,\n",
    "         'dir':'../bstm_models/v4/model',\n",
    "        'seq_len':25,\n",
    "        'vocab_size':20002,\n",
    "        'word_dims':2048}\n",
    "parser = Parser([\"../data/sentence5.csv\"], \"csv\", params['vocab_size'] - 2, params['seq_len'])"
   ]
  },
  {
   "cell_type": "code",
   "execution_count": 26,
   "metadata": {
    "collapsed": false
   },
   "outputs": [
    {
     "name": "stdout",
     "output_type": "stream",
     "text": [
      "13265\n",
      "('cooled', ['tony', 'himself', 'off', '.'])\n",
      "20002\n"
     ]
    }
   ],
   "source": [
    "# Instantiate Dataset (basically a Parser with 2 additional functions, sampleTokenIdx and getRandomContext)\n",
    "from word2vec import *\n",
    "\n",
    "dataset = Dataset(parser)\n",
    "print(dataset.sampleTokenIdx())\n",
    "print(dataset.getRandomContext(3))\n",
    "print(V)"
   ]
  },
  {
   "cell_type": "code",
   "execution_count": 41,
   "metadata": {
    "collapsed": false
   },
   "outputs": [
    {
     "name": "stdout",
     "output_type": "stream",
     "text": [
      "sanity check: cost at convergence should be around or below 10\n"
     ]
    }
   ],
   "source": [
    "# Perform sgd. Output will be in saved_params\n",
    "from sgd import *\n",
    "\n",
    "nWords = len(parser.encode_dict)\n",
    "dimVectors = 10\n",
    "tokens = parser.encode_dict\n",
    "\n",
    "# Context size\n",
    "C = 5\n",
    "\n",
    "# Reset the random seed to make sure that everyone gets the same results\n",
    "wordVectors = np.concatenate(((np.random.rand(nWords, dimVectors) - .5) / \\\n",
    "\tdimVectors, np.zeros((nWords, dimVectors))), axis=0)\n",
    "wordVectors0 = sgd(\n",
    "    lambda vec: word2vec_sgd_wrapper(skipgram, tokens, vec, dataset, C, \n",
    "    \tnegSamplingCostAndGradient), \n",
    "    wordVectors, 0.3, 40000, None, True, PRINT_EVERY=1000)\n",
    "print(\"sanity check: cost at convergence should be around or below 10\")"
   ]
  },
  {
   "cell_type": "code",
   "execution_count": null,
   "metadata": {
    "collapsed": true
   },
   "outputs": [],
   "source": []
  }
 ],
 "metadata": {
  "anaconda-cloud": {},
  "kernelspec": {
   "display_name": "Python [conda root]",
   "language": "python",
   "name": "conda-root-py"
  },
  "language_info": {
   "codemirror_mode": {
    "name": "ipython",
    "version": 3
   },
   "file_extension": ".py",
   "mimetype": "text/x-python",
   "name": "python",
   "nbconvert_exporter": "python",
   "pygments_lexer": "ipython3",
   "version": "3.5.2"
  }
 },
 "nbformat": 4,
 "nbformat_minor": 1
}
