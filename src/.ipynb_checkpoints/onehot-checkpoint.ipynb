{
 "cells": [
  {
   "cell_type": "code",
   "execution_count": 1,
   "metadata": {
    "collapsed": true
   },
   "outputs": [],
   "source": [
    "import numpy as np\n",
    "import nltk, pprint\n",
    "from nltk import word_tokenize\n",
    "from nltk.tokenize import sent_tokenize\n",
    "from urllib.request import urlopen\n",
    "from sklearn.preprocessing import OneHotEncoder\n",
    "from sklearn import preprocessing\n",
    "import re\n",
    "import time\n",
    "import pickle\n",
    "import unicodedata\n",
    "%matplotlib inline\n",
    "import matplotlib.pyplot as plt\n",
    "from pylab import rcParams\n",
    "import csv\n",
    "\n",
    "# nltk.download() # Might need this if tokenize doens't work"
   ]
  },
  {
   "cell_type": "markdown",
   "metadata": {},
   "source": [
    "## Data class "
   ]
  },
  {
   "cell_type": "code",
   "execution_count": null,
   "metadata": {
    "collapsed": false
   },
   "outputs": [],
   "source": [
    "class data:\n",
    "    \n",
    "    def cleanData(self, bookURLs):\n",
    "        wordTokens = []\n",
    "        sentTokens = []\n",
    "        lst = []\n",
    "        for book in bookURLs:\n",
    "            print(\"Reading book: \" + book)\n",
    "            rawbook = ''\n",
    "            if (self.textOrUrl == \"url\"):\n",
    "                response = urlopen(book)\n",
    "                rawbook = response.read().decode('utf8')\n",
    "            elif (self.textOrUrl == \"text\"):\n",
    "                with open(book, 'r') as myfile:\n",
    "                    rawbook = myfile.read().replace('\\n', '')\n",
    "            elif (self.textOrUrl == \"csv\"):\n",
    "                with open(book, 'r') as f:\n",
    "                    reader = csv.reader(f)\n",
    "                    lst = list(reader)\n",
    "                    combined = [x[2:] for x in lst]\n",
    "                    for i in range(len(combined)):\n",
    "                        rawbook += combined[i][0]\n",
    "                        rawbook += ' '\n",
    "                        rawbook += combined[i][1]\n",
    "                        rawbook += ' '\n",
    "                        rawbook += combined[i][2]\n",
    "                        rawbook += ' '\n",
    "                        rawbook += combined[i][3]\n",
    "                        rawbook += ' '\n",
    "                        rawbook += combined[i][4]\n",
    "                        rawbook += ' '\n",
    "            else:\n",
    "                raise ValueError(\"Invalid file type. Must be 'csv', 'url', or 'text'.\")\n",
    "                \n",
    "            rawbook =  re.sub(r'\\r*\\n', \" \", rawbook)\n",
    "            rawbook = re.sub(r' +', \" \", rawbook)\n",
    "            rawbook = rawbook.replace('”','\"').replace('“', '\"').replace('``', '').replace(\"''\", '').replace('\" \"', '')\n",
    "            rawbook = rawbook.replace('chapter', '').replace('Chapter', '').replace('-LCB-', '').replace('-RCB-', '')\n",
    "            rawbook = rawbook.replace('-LSB-', '').replace('-RSB', '').replace('-LRB', '').replace('-RRB-', '')\n",
    "            rawbook = rawbook.replace('\"\\n\"', '').replace('Chapter heading picture :', '')\n",
    "            rawbook = re.sub(r'\"', '', rawbook)\n",
    "            rawbook = rawbook.lower()\n",
    "            wordTokens += word_tokenize(rawbook)\n",
    "            sentTokens += sent_tokenize(rawbook)\n",
    "        print(\"Cleaning sentences...\")\n",
    "#         for i in range(len(sentTokens)):\n",
    "#             sentTokens[i] = word_tokenize(sentTokens[i])\n",
    "        sentTokens = [word_tokenize(word) for word in sentTokens]\n",
    "        print(\"Finished Cleaning\")\n",
    "\n",
    "        # Creating one-hot words\n",
    "        wordTokens = [x.lower() for x in wordTokens] # makes all words lowercase\n",
    "        allwords = wordTokens\n",
    "        \n",
    "        ###### keeps most frequent self.numWords # of words, rest are UNK #######\n",
    "        unique, counts = np.unique(allwords, return_counts=True)\n",
    "        wordsAndCounts = np.asarray((unique, counts)).T\n",
    "        wordFreq = sorted(wordsAndCounts, key=lambda x: x[1].astype(float))\n",
    "        ints = [[x[0].astype(str), x[1].astype(float)] for x in wordFreq]\n",
    "        words = [x[0] for x in ints]\n",
    "        counts = [x[1] for x in ints]\n",
    "        words = list(reversed(words))\n",
    "        counts = list(reversed(counts))\n",
    "        wordTokens = words[:self.numWords]\n",
    "        \n",
    "        wordTokens.append('ppaadd')\n",
    "        wordTokens.append('unk')\n",
    "        wordTokens = list(set(wordTokens))\n",
    "        wordTokens = sorted(wordTokens)\n",
    "        wordlb = preprocessing.LabelBinarizer()\n",
    "        wordEncoding = wordlb.fit_transform(wordTokens)\n",
    "\n",
    "        print('Cleaning Data Complete')\n",
    "        return wordlb, wordEncoding, wordTokens, sentTokens, allwords #### wordlb, encoding, tokens, ppaadd\n",
    "    \n",
    "    def createDicts(self):\n",
    "        print('Creating Dictionaries...')\n",
    "        encodeDict = {} #{'this' : 5} if the one hot is 00001000...\n",
    "        decodeDict = {}\n",
    "        for i in range(len(self.wordTokens)):\n",
    "            word = self.wordTokens[i]\n",
    "            index_of_1 = i\n",
    "            encodeDict[word] = index_of_1\n",
    "            decodeDict[index_of_1] = word\n",
    "        print('Created dictionaries')\n",
    "        return encodeDict, decodeDict\n",
    "       \n",
    "    def getAllSentences(self):\n",
    "        print('Creating all sentences...')\n",
    "        allSentences = []\n",
    "        for sent in self.sentTokens:\n",
    "            sentOfOneHotWords = []\n",
    "            sentOfOneHotWords = [self.word_to_index(word) for word in sent] \n",
    "            while len(sentOfOneHotWords) < (self.maxSentenceLength + 1):\n",
    "                sentOfOneHotWords.append(self.word_to_index('ppaadd'))\n",
    "            sentOfOneHotWords = sentOfOneHotWords[:(self.maxSentenceLength)]\n",
    "            allSentences.append(sentOfOneHotWords)\n",
    "        print('Done creating sentences')\n",
    "        return allSentences\n",
    "              \n",
    "    def word_to_index(self, word):\n",
    "        if word in self.encodeDict:\n",
    "            return self.encodeDict[word]\n",
    "        else:\n",
    "            return self.encodeDict['unk']\n",
    "\n",
    "    # maps index of the 1 to actual onehot encoding\n",
    "    def index_to_onehot(self, index):\n",
    "        onehot = np.append(np.append(np.zeros(index), 1), np.zeros(self.num_unique_words - (index+1)))\n",
    "        onehot = onehot.reshape(1, len(onehot))\n",
    "        return onehot \n",
    "    \n",
    "    def getSentence(self, sentenceIndex):\n",
    "        if sentenceIndex > len(self.allSentences):\n",
    "            raise ValueError(\"Sentence index is greater number of sentences in corpus\")\n",
    "        return(self.allSentences[sentenceIndex])\n",
    "\n",
    "    # Returns sentence with all words in onehot\n",
    "    def getOneHotSentence(self, sentenceIndex):\n",
    "        sentence = self.getSentence(sentenceIndex)\n",
    "        onehotSentence = []\n",
    "        for i in range(len(sentence)):\n",
    "            onehotSentence.append(self.getWord(sentenceIndex, i))\n",
    "        return(onehotSentence)\n",
    "\n",
    "    # Returns [[00...000]], a one-hot encoded word at specified sentence and word index in a nested array (for decoding)\n",
    "    def getWord(self, sentenceIndex, wordIndex):\n",
    "        if wordIndex > self.maxSentenceLength+1:\n",
    "            raise ValueError(\"Word index is greater than max sentence length\")\n",
    "        word = self.allSentences[sentenceIndex][wordIndex]\n",
    "        if type(word) != int:\n",
    "            return word\n",
    "        else:\n",
    "            return(self.index_to_onehot(self.getSentence(sentenceIndex)[wordIndex])) # returns [[000...000]]\n",
    "\n",
    "    # Decodes word at specified sentence and word indicies back into English\n",
    "    def decode(self, sentenceIndex, wordIndex):\n",
    "        word = self.getWord(sentenceIndex, wordIndex)\n",
    "        if type(word) == str: # 'START', 'END', 'PAD'\n",
    "            return word\n",
    "        return(self.wordlb.inverse_transform(word)[0])\n",
    "    \n",
    "    def one_hot_to_word(self, onehot):\n",
    "        return self.wordlb.inverse_transform(onehot)[0]\n",
    "    \n",
    "    def one_hot_sentence_to_sentence(self, sent):\n",
    "        real = [self.one_hot_to_word(word) for word in sent]\n",
    "#         for word in sent:\n",
    "#             real.append(self.one_hot_to_word(word))\n",
    "        return real\n",
    "\n",
    "    # returns numSentences random sentences with words in onehot\n",
    "    def getBatch(self, numSentences):\n",
    "        batch = []\n",
    "        for i in range(numSentences):\n",
    "            rand = np.random.random_integers(len(self.allSentences))\n",
    "            batch.append(self.getOneHotSentence(rand))\n",
    "        return batch\n",
    "    \n",
    "    def getRandomStoryOneHot(self):\n",
    "        batch = []\n",
    "        rand = np.random.random_integers(len(self.allSentences))\n",
    "        rand = rand - (rand % 5) - 1\n",
    "        for i in range(rand, rand+5):\n",
    "            batch.append(self.getOneHotSentence(i))\n",
    "        return batch\n",
    "    \n",
    "    def getRandomStory(self):\n",
    "        batch = []\n",
    "        story = ''\n",
    "        rand = np.random.random_integers(len(self.allSentences))\n",
    "        rand = rand - (rand % 5) - 1\n",
    "        for i in range(rand, rand+5):\n",
    "            sent = self.one_hot_sentence_to_sentence(self.getOneHotSentence(i))\n",
    "            text = ''\n",
    "            i = 0\n",
    "            while sent[i] != '.':\n",
    "                print(\"i:\", i)\n",
    "                print(\"sent[i]:\", sent[i])\n",
    "                text += sent[i]\n",
    "                text += ' '\n",
    "                i += 1\n",
    "            text += '.'\n",
    "            story += text\n",
    "            story += ' ' \n",
    "        return story\n",
    "    \n",
    "    def __init__(self, bookURLs, textOrUrl, numWords, maxLength, encodeDict=None, decodeDict=None): #\"text\" or \"url\" for textOrUrl\n",
    "        self.textOrUrl = textOrUrl\n",
    "        self.numWords = numWords\n",
    "        self.maxSentenceLength = maxLength\n",
    "        self.bookURLs = bookURLs\n",
    "        self.wordlb, self.wordEncoding, self.wordTokens, self.sentTokens, self.allWords = self.cleanData(self.bookURLs)\n",
    "        self.encodeDict = {} #{'this' : 5} if the one hot is 00001000...\n",
    "        self.decodeDict = {} # {5: 'this}\n",
    "        if ((encodeDict != None) and (decodeDict != None)):\n",
    "            self.encodeDict, self.decodeDict = encodeDict, decodeDict\n",
    "        else:\n",
    "            self.encodeDict, self.decodeDict = self.createDicts()\n",
    "        self.num_unique_words = len(self.decodeDict)\n",
    "        self.allSentences = self.getAllSentences()\n",
    "        print(\"Words:\", len(self.allWords))\n",
    "        print(\"Unique words:\", self.wordEncoding.shape[0])\n",
    "        print(\"Sentences:\", len(self.allSentences))\n",
    "        print('Data initialized')"
   ]
  },
  {
   "cell_type": "code",
   "execution_count": null,
   "metadata": {
    "collapsed": false
   },
   "outputs": [],
   "source": [
    "# initialization should be data([path to text file or url], \"text\" or \"url\" or \"csv\", # unique words you want, max length of sentence)\n",
    "test = data([\"../data/sentence5.csv\"], \"csv\", 3700, 15)"
   ]
  },
  {
   "cell_type": "code",
   "execution_count": null,
   "metadata": {
    "collapsed": false,
    "scrolled": true
   },
   "outputs": [],
   "source": [
    "# should print the same thing twice\n",
    "num =2796\n",
    "print(test.wordTokens[num])\n",
    "test.wordlb.inverse_transform(np.append(np.append(np.zeros(num), 1), np.zeros(16359- (num+1))).reshape(1, 16359))[0]"
   ]
  },
  {
   "cell_type": "code",
   "execution_count": null,
   "metadata": {
    "collapsed": false,
    "scrolled": false
   },
   "outputs": [],
   "source": [
    "# prints a random sentence\n",
    "print(test.one_hot_sentence_to_sentence(test.getBatch(1)[0]))"
   ]
  },
  {
   "cell_type": "code",
   "execution_count": null,
   "metadata": {
    "collapsed": false
   },
   "outputs": [],
   "source": [
    "story = test.getRandomStory()"
   ]
  },
  {
   "cell_type": "code",
   "execution_count": null,
   "metadata": {
    "collapsed": false
   },
   "outputs": [],
   "source": [
    "print(len(story))\n",
    "print(story)"
   ]
  },
  {
   "cell_type": "markdown",
   "metadata": {},
   "source": [
    "## Data analytics"
   ]
  },
  {
   "cell_type": "code",
   "execution_count": 20,
   "metadata": {
    "collapsed": false
   },
   "outputs": [
    {
     "data": {
      "image/png": "[encoded data removed]",
      "text/plain": [
       "<matplotlib.figure.Figure at 0x11132d048>"
      ]
     },
     "metadata": {},
     "output_type": "display_data"
    }
   ],
   "source": [
    "# Sentence Lengths\n",
    "sentencelength = [len(sent) for sent in test.sentTokens]\n",
    "plt.hist(sentencelength, bins=[0, 5, 10, 15, 20, 25, 30, 35, 40, 45, 50, 55, 60, 65, 70, 75, 80, 85, 90, 95, 100])\n",
    "plt.title(\"Sentence Lengths\")\n",
    "plt.ylabel('# sentences')\n",
    "plt.xlabel('# words per sentence')\n",
    "rcParams['figure.figsize'] = 4, 4\n",
    "plt.show()"
   ]
  },
  {
   "cell_type": "code",
   "execution_count": 21,
   "metadata": {
    "collapsed": false
   },
   "outputs": [],
   "source": [
    "# Word Frequencies\n",
    "unique, counts = np.unique(test.allWords, return_counts=True)\n",
    "wordsAndCounts = np.asarray((unique, counts)).T\n",
    "wordFreq = sorted(wordsAndCounts, key=lambda x: x[1].astype(float))\n",
    "ints = [[x[0].astype(str), x[1].astype(float)] for x in wordFreq]\n",
    "words = [x[0] for x in ints]\n",
    "counts = [x[1] for x in ints]\n",
    "words = list(reversed(words))\n",
    "counts = list(reversed(counts))\n",
    "numwords = test.numWords\n",
    "words = words[:numwords]\n",
    "counts = counts[:numwords]\n",
    "\n",
    "# ytick = np.arange(0,250000,1500)\n",
    "\n",
    "# rcParams['figure.figsize'] = .2*numwords, .5*len(ytick)\n",
    "# indexes = np.arange(len(words))\n",
    "# width = .9\n",
    "# plt.bar(indexes, counts, width)\n",
    "# plt.xticks(indexes + width*.1, words, rotation='vertical')\n",
    "# plt.yticks(ytick)\n",
    "# plt.title(\"%d Most Frequent Words\" % numwords)\n",
    "# plt.ylabel('# appearances')\n",
    "# plt.xlabel('Word')\n",
    "# plt.show()"
   ]
  },
  {
   "cell_type": "code",
   "execution_count": 28,
   "metadata": {
    "collapsed": false
   },
   "outputs": [],
   "source": [
    "percents = []\n",
    "numwords = np.arange(1000, 20000, 1000)\n",
    "for element in numwords:\n",
    "    percents.append(sum(counts[:element])/2562529)"
   ]
  },
  {
   "cell_type": "code",
   "execution_count": 46,
   "metadata": {
    "collapsed": false
   },
   "outputs": [
    {
     "data": {
      "text/plain": [
       "<function matplotlib.pyplot.show>"
      ]
     },
     "execution_count": 46,
     "metadata": {},
     "output_type": "execute_result"
    },
    {
     "data": {
      "image/png": "[encoded data removed]",
      "text/plain": [
       "<matplotlib.figure.Figure at 0x17a623eb8>"
      ]
     },
     "metadata": {},
     "output_type": "display_data"
    }
   ],
   "source": [
    "plt.plot(numwords, percents)\n",
    "plt.title(\"Number of unique words vs. % of total vocab covered\")\n",
    "plt.xticks(np.arange(0, 20001, 4000))\n",
    "plt.ylabel(\"% of words covered\")\n",
    "plt.xlabel(\"# of unique words \")\n",
    "plt.show"
   ]
  },
  {
   "cell_type": "code",
   "execution_count": 8,
   "metadata": {
    "collapsed": false
   },
   "outputs": [
    {
     "data": {
      "text/plain": [
       "<Container object of 21 artists>"
      ]
     },
     "execution_count": 8,
     "metadata": {},
     "output_type": "execute_result"
    },
    {
     "data": {
      "image/png": "[encoded data removed]",
      "text/plain": [
       "<matplotlib.figure.Figure at 0x1829e1438>"
      ]
     },
     "metadata": {},
     "output_type": "display_data"
    }
   ],
   "source": [
    "# of words appearing only a few times\n",
    "sortedWordsAndCounts = sorted(wordsAndCounts, key=lambda x: x[1].astype(float))\n",
    "sortedWordsAndCounts = [[x[0].astype(str), x[1].astype(float)] for x in sortedWordsAndCounts]\n",
    "\n",
    "# Number of non-frequent words\n",
    "freqs = np.arange(0,21,1)\n",
    "lengths = []\n",
    "for freq in freqs:\n",
    "    temp = [x for x in sortedWordsAndCounts if x[1] <= freq]\n",
    "    lengths.append(len(temp))\n",
    "width = .8\n",
    "indexes = np.arange(len(lengths))\n",
    "\n",
    "rcParams['figure.figsize'] = 4, 4\n",
    "plt.xlabel(\"< this many appearances in text\")\n",
    "plt.ylabel(\"# words\")\n",
    "plt.title(\"# of infrequent words\")\n",
    "plt.bar(indexes, lengths, width)"
   ]
  },
  {
   "cell_type": "code",
   "execution_count": 48,
   "metadata": {
    "collapsed": false
   },
   "outputs": [
    {
     "name": "stdout",
     "output_type": "stream",
     "text": [
      "5\n",
      "6\n"
     ]
    }
   ],
   "source": [
    "for i in range(5, 7):\n",
    "    print(i)"
   ]
  },
  {
   "cell_type": "code",
   "execution_count": null,
   "metadata": {
    "collapsed": true
   },
   "outputs": [],
   "source": []
  }
 ],
 "metadata": {
  "kernelspec": {
   "display_name": "Python 3",
   "language": "python",
   "name": "python3"
  },
  "language_info": {
   "codemirror_mode": {
    "name": "ipython",
    "version": 3
   },
   "file_extension": ".py",
   "mimetype": "text/x-python",
   "name": "python",
   "nbconvert_exporter": "python",
   "pygments_lexer": "ipython3",
   "version": "3.4.5"
  }
 },
 "nbformat": 4,
 "nbformat_minor": 0
}
